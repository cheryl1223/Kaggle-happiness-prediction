{
 "cells": [
  {
   "cell_type": "code",
   "execution_count": 1,
   "metadata": {
    "collapsed": false,
    "deletable": true,
    "editable": true
   },
   "outputs": [
    {
     "name": "stderr",
     "output_type": "stream",
     "text": [
      "/usr/local/lib/python3.6/site-packages/IPython/html.py:14: ShimWarning: The `IPython.html` package has been deprecated since IPython 4.0. You should import from `notebook` instead. `IPython.html.widgets` has moved to `ipywidgets`.\n",
      "  \"`IPython.html.widgets` has moved to `ipywidgets`.\", ShimWarning)\n"
     ]
    }
   ],
   "source": [
    "import pandas as pd\n",
    "import matplotlib.pyplot as plt\n",
    "import numpy as np\n",
    "import seaborn\n",
    "seaborn.set()\n",
    "from sklearn.preprocessing import Imputer    \n",
    "def transform(filename):\n",
    "    df = filename\n",
    "    #print(df[:15])\n",
    "\n",
    "    df2 = np.array(df)\n",
    "    #print(df.shape, df2.shape)\n",
    "   \n",
    "    for j in range(df2.shape[1]):            \n",
    "        dfj = set(df2[:,j])        \n",
    "        #print(dfj)\n",
    "        feature = []\n",
    "        for x in dfj:\n",
    "            if type(x) == float and np.isnan(x) == True:\n",
    "                continue\n",
    "            else:\n",
    "                feature.append(x)   \n",
    "        #print(df[df.columns[5]][:10])\n",
    "        if df.columns[j] == 'UserID' or df.columns[j] == 'YOB'or df.columns[j] == 'Votes':\n",
    "            continue\n",
    "        if df.columns[j] == 'Income':\n",
    "            #print(df[df.columns[j]][:10]) \n",
    "            df[df.columns[j]] = df[df.columns[j]].astype('category', categories=[\"under $25,000\",\n",
    "                \"$25,001 - $50,000\",\"$50,000 - $74,999\",\"$75,000 - $100,000\",\"$100,001 - $150,000\",\n",
    "                \"over $150,000\"], ordered=False).values     \n",
    "            #print(df[df.columns[j]][50:70])      \n",
    "            df[df.columns[j]] = df[df.columns[j]].cat.rename_categories(np.arange(len(feature),dtype=float))\n",
    "            df[df.columns[j]].astype(int).values\n",
    "            #print(df[df.columns[j]][50:70])   \n",
    "\n",
    "        elif df.columns[j] == 'EducationLevel':            \n",
    "            #print(df[df.columns[j]][:10]) \n",
    "            df[df.columns[j]] = df[df.columns[j]].astype('category', categories=[\"Current K-12\",\n",
    "                \"High School Diploma\",\"Current Undergraduate\",\"Associate's Degree\", \n",
    "                \"Bachelor's Degree\",\"Master's Degree\",\"Doctoral Degree\"], ordered=False).values          \n",
    "            df[df.columns[j]] = df[df.columns[j]].cat.rename_categories(np.arange(len(feature),dtype=float))\n",
    "            df[df.columns[j]].astype(int).values     \n",
    "            #print(df[df.columns[j]][:10]) \n",
    "               \n",
    "        else:                       \n",
    "            df[df.columns[j]] = df[df.columns[j]].astype('category', ordered=True).values\n",
    "            df[df.columns[j]] = df[df.columns[j]].cat.rename_categories(np.arange(len(feature),dtype=float))\n",
    "            df[df.columns[j]].astype(int).values                        \n",
    "            #print(df[df.columns[j]][:15])\n",
    "        \n",
    "    #print(df[:15])\n",
    "    \n",
    "    target = df['Happy']\n",
    "    data = df.drop('Happy',axis=1)\n",
    "       \n",
    "    return {'data':data,'target':target}\n",
    "\n",
    "def fill_missing(X, strategy, isClassified):\n",
    "    \"\"\"\n",
    "     @X: input matrix with missing data filled by nan\n",
    "     @strategy: string, 'median', 'mean', 'most_frequent'\n",
    "     @isclassfied: boolean value, if isclassfied == true, then you need build a\n",
    "     decision tree to classify users into different classes and use the\n",
    "     median/mean/mode values of different classes to fill in the missing data;\n",
    "     otherwise, just take the median/mean/most_frequent values of input data to\n",
    "     fill in the missing data\n",
    "    \"\"\"\n",
    "    X_full = []  \n",
    "    imp = Imputer(missing_values='NaN', strategy=strategy, axis=0)\n",
    "    if (isClassified == False): \n",
    "        X_full = np.asarray(imp.fit_transform(X))\n",
    "    if (isClassified == True):\n",
    "        groups = X.groupby([\"Gender\",\"Income\"])\n",
    "        for key, values in groups:\n",
    "            X_full.append(imp.fit_transform(values))\n",
    "        X_full = np.vstack(X_full)\n",
    "    return X_full  \n",
    "\n",
    "def main():\n",
    "    ## Read the raw data with pandas.read_csv()\n",
    "    df = pd.read_csv('data/train.csv', index_col = None, na_values=[\"?\"])\n",
    "    df.replace('?', np.NaN)  \n",
    "    Dict = transform(df)\n",
    "    X_train = Dict['data']\n",
    "    y_train = Dict['target']\n",
    "    train = pd.concat([X_train,y_train],axis = 1)\n",
    "    X_full = fill_missing(train,strategy = 'mean', isClassified = True)\n",
    "\n",
    "    X_train = X_full[:,0:X_full.shape[1]-1]\n",
    "    y_train = X_full[:,X_full.shape[1]-1]\n",
    "\n",
    "\n",
    "if __name__ == '__main__':\n",
    "    main()"
   ]
  },
  {
   "cell_type": "code",
   "execution_count": null,
   "metadata": {
    "collapsed": false,
    "deletable": true,
    "editable": true,
    "scrolled": true
   },
   "outputs": [],
   "source": [
    "\n",
    "\n"
   ]
  },
  {
   "cell_type": "code",
   "execution_count": null,
   "metadata": {
    "collapsed": false,
    "deletable": true,
    "editable": true
   },
   "outputs": [],
   "source": []
  },
  {
   "cell_type": "code",
   "execution_count": null,
   "metadata": {
    "collapsed": false,
    "deletable": true,
    "editable": true
   },
   "outputs": [],
   "source": []
  },
  {
   "cell_type": "code",
   "execution_count": null,
   "metadata": {
    "collapsed": true,
    "deletable": true,
    "editable": true
   },
   "outputs": [],
   "source": []
  },
  {
   "cell_type": "code",
   "execution_count": null,
   "metadata": {
    "collapsed": true
   },
   "outputs": [],
   "source": []
  }
 ],
 "metadata": {
  "kernelspec": {
   "display_name": "Python 3",
   "language": "python",
   "name": "python3"
  },
  "language_info": {
   "codemirror_mode": {
    "name": "ipython",
    "version": 3
   },
   "file_extension": ".py",
   "mimetype": "text/x-python",
   "name": "python",
   "nbconvert_exporter": "python",
   "pygments_lexer": "ipython3",
   "version": "3.6.1"
  }
 },
 "nbformat": 4,
 "nbformat_minor": 2
}
